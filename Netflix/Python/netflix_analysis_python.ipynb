{
 "cells": [
  {
   "cell_type": "markdown",
   "id": "80603d31",
   "metadata": {},
   "source": [
    "# 📺 Netflix Content Analysis\n",
    "\n",
    "This notebook provides a complete exploratory data analysis (EDA) of Netflix titles dataset using Python (Pandas, Seaborn, Matplotlib). It covers data cleaning, outlier detection, and visual analysis of movies and shows."
   ]
  },
  {
   "cell_type": "markdown",
   "id": "2570f09e",
   "metadata": {},
   "source": [
    "## 📁 Load Dataset"
   ]
  },
  {
   "cell_type": "code",
   "execution_count": null,
   "id": "99debfb4",
   "metadata": {},
   "outputs": [],
   "source": [
    "import pandas as pd\n",
    "import matplotlib.pyplot as plt\n",
    "import seaborn as sns\n",
    "\n",
    "# Load CSV file (replace path if needed)\n",
    "df = pd.read_csv('netflix_titles.csv')\n",
    "df.head()"
   ]
  },
  {
   "cell_type": "markdown",
   "id": "a964c300",
   "metadata": {},
   "source": [
    "## 🧾 Dataset Overview\n",
    "Quick look at column names, data types, and missing values."
   ]
  },
  {
   "cell_type": "code",
   "execution_count": null,
   "id": "b4de7f84",
   "metadata": {},
   "outputs": [],
   "source": [
    "df.info()\n",
    "df.isnull().sum()"
   ]
  },
  {
   "cell_type": "markdown",
   "id": "d1a64b03",
   "metadata": {},
   "source": [
    "## 🧹 Data Cleaning\n",
    "Handle missing values and fix inconsistent formatting."
   ]
  },
  {
   "cell_type": "code",
   "execution_count": null,
   "id": "04f56b9c",
   "metadata": {},
   "outputs": [],
   "source": [
    "# Fill nulls in specific columns\n",
    "df['description'] = df['description'].fillna('No Description')\n",
    "df['age_certification'] = df['age_certification'].fillna('Unrated')\n",
    "df['imdb_id'] = df['imdb_id'].fillna('N/A')\n",
    "df['production_countries'] = df['production_countries'].replace('[]', 'Unknown')\n",
    "\n",
    "# Drop rows with missing title\n",
    "df = df.dropna(subset=['title'])"
   ]
  },
  {
   "cell_type": "code",
   "execution_count": null,
   "id": "e8cf5b88",
   "metadata": {},
   "outputs": [],
   "source": [
    "# Fill missing values with averages for numeric columns\n",
    "for col in ['imdb_score', 'imdb_votes', 'tmdb_score', 'tmdb_popularity']:\n",
    "    if df[col].isnull().sum() > 0:\n",
    "        df[col] = df[col].fillna(df[col].mean())"
   ]
  },
  {
   "cell_type": "markdown",
   "id": "1c647824",
   "metadata": {},
   "source": [
    "## 🔍 Duplicate Check"
   ]
  },
  {
   "cell_type": "code",
   "execution_count": null,
   "id": "9e8e7496",
   "metadata": {},
   "outputs": [],
   "source": [
    "df[df.duplicated(subset=['title', 'release_year', 'type'])]"
   ]
  },
  {
   "cell_type": "markdown",
   "id": "4993713d",
   "metadata": {},
   "source": [
    "## ✅ Movie vs Show Distribution"
   ]
  },
  {
   "cell_type": "code",
   "execution_count": null,
   "id": "f301d059",
   "metadata": {},
   "outputs": [],
   "source": [
    "type_counts = df['type'].value_counts()\n",
    "plt.figure(figsize=(6, 6))\n",
    "type_counts.plot.pie(autopct='%1.1f%%', startangle=90, colors=['#66c2a5', '#fc8d62'])\n",
    "plt.title('Content Type Distribution')\n",
    "plt.ylabel('')\n",
    "plt.show()"
   ]
  },
  {
   "cell_type": "markdown",
   "id": "d63aa34e",
   "metadata": {},
   "source": [
    "## 📅 Content by Release Year"
   ]
  },
  {
   "cell_type": "code",
   "execution_count": null,
   "id": "697fff8d",
   "metadata": {},
   "outputs": [],
   "source": [
    "year_counts = df['release_year'].value_counts().sort_index()\n",
    "plt.figure(figsize=(12, 5))\n",
    "sns.lineplot(x=year_counts.index, y=year_counts.values)\n",
    "plt.title('Titles Released per Year')\n",
    "plt.xlabel('Year')\n",
    "plt.ylabel('Count')\n",
    "plt.grid(True)\n",
    "plt.show()"
   ]
  },
  {
   "cell_type": "markdown",
   "id": "6038d223",
   "metadata": {},
   "source": [
    "## 🌍 Top Production Countries"
   ]
  },
  {
   "cell_type": "code",
   "execution_count": null,
   "id": "7b9c54fe",
   "metadata": {},
   "outputs": [],
   "source": [
    "top_countries = df['production_countries'].value_counts().head(10)\n",
    "plt.figure(figsize=(10, 5))\n",
    "sns.barplot(x=top_countries.values, y=top_countries.index, palette='viridis')\n",
    "plt.title('Top 10 Producing Countries')\n",
    "plt.xlabel('Number of Titles')\n",
    "plt.show()"
   ]
  },
  {
   "cell_type": "markdown",
   "id": "62330651",
   "metadata": {},
   "source": [
    "## 🎭 Genre Distribution"
   ]
  },
  {
   "cell_type": "code",
   "execution_count": null,
   "id": "fb29f84e",
   "metadata": {},
   "outputs": [],
   "source": [
    "from collections import Counter\n",
    "\n",
    "genre_series = df['genres'].dropna().apply(lambda x: eval(x) if isinstance(x, str) and x.startswith('[') else [x])\n",
    "genres_flat = [genre.strip() for sublist in genre_series for genre in sublist if genre]\n",
    "genre_counts = pd.Series(Counter(genres_flat)).sort_values(ascending=False).head(10)\n",
    "\n",
    "plt.figure(figsize=(10, 5))\n",
    "sns.barplot(x=genre_counts.values, y=genre_counts.index, palette='rocket')\n",
    "plt.title('Top 10 Genres')\n",
    "plt.xlabel('Number of Titles')\n",
    "plt.show()"
   ]
  },
  {
   "cell_type": "markdown",
   "id": "7f121532",
   "metadata": {},
   "source": [
    "## ⚠️ Runtime Outlier Detection"
   ]
  },
  {
   "cell_type": "code",
   "execution_count": null,
   "id": "e1665d59",
   "metadata": {},
   "outputs": [],
   "source": [
    "plt.figure(figsize=(8, 4))\n",
    "sns.boxplot(data=df, x='type', y='runtime')\n",
    "plt.title('Runtime Outliers by Type')\n",
    "plt.show()"
   ]
  },
  {
   "cell_type": "markdown",
   "id": "6399768f",
   "metadata": {},
   "source": [
    "## ⏱️ Longest Titles by Runtime"
   ]
  },
  {
   "cell_type": "code",
   "execution_count": null,
   "id": "7ad13630",
   "metadata": {},
   "outputs": [],
   "source": [
    "df['hours'] = df['runtime'] // 60\n",
    "df['minutes'] = df['runtime'] % 60\n",
    "df['formatted_duration'] = df['hours'].astype(str) + ':' + df['minutes'].astype(str).str.zfill(2)\n",
    "\n",
    "# Top longest titles\n",
    "longest = df[['title', 'type', 'runtime', 'formatted_duration']].sort_values(by='runtime', ascending=False).head(10)\n",
    "longest"
   ]
  },
  {
   "cell_type": "markdown",
   "id": "72f4c59d",
   "metadata": {},
   "source": [
    "## ✅ Conclusion\n",
    "- Majority of content is movies.\n",
    "- The most popular genres include documentaries and dramas.\n",
    "- Runtime outliers were identified especially in some shows.\n",
    "- The dataset required cleaning in multiple fields.\n",
    "\n",
    "📌 You can expand this analysis with:\n",
    "- Sentiment analysis of descriptions\n",
    "- Rating comparison by genre\n",
    "- Adding a Tableau dashboard."
   ]
  }
 ],
 "metadata": {},
 "nbformat": 4,
 "nbformat_minor": 5
}
